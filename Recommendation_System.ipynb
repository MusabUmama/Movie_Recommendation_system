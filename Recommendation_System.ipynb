{
  "nbformat": 4,
  "nbformat_minor": 0,
  "metadata": {
    "colab": {
      "provenance": [],
      "authorship_tag": "ABX9TyPGQ0gLtR6hRF9c8l2nn3ih",
      "include_colab_link": true
    },
    "kernelspec": {
      "name": "python3",
      "display_name": "Python 3"
    },
    "language_info": {
      "name": "python"
    }
  },
  "cells": [
    {
      "cell_type": "markdown",
      "metadata": {
        "id": "view-in-github",
        "colab_type": "text"
      },
      "source": [
        "<a href=\"https://colab.research.google.com/github/MusabUmama/Movie_Recommendation_system/blob/main/Recommendation_System.ipynb\" target=\"_parent\"><img src=\"https://colab.research.google.com/assets/colab-badge.svg\" alt=\"Open In Colab\"/></a>"
      ]
    },
    {
      "cell_type": "markdown",
      "source": [
        "# Collaborative Movie Filtering"
      ],
      "metadata": {
        "id": "ZK3kCJR6J0fl"
      }
    },
    {
      "cell_type": "markdown",
      "source": [
        "**The Dataset**\n",
        "\n",
        "There are 4 datasets including movies, ratings, tags and links.\n",
        "\n",
        "\n",
        "* Movies Dataset: This dataset contains information about movies, including movie\n",
        "IDs, titles, and genres.\n",
        "\n",
        "* Ratings Dataset: This dataset contains user ratings for movies, including user IDs, movie IDs, ratings, and timestamps.\n",
        "\n",
        "* Tags Dataset: This dataset contains user-generated tags for movies, including user IDs, movie IDs, tags, and timestamps.\n",
        "\n",
        "* Links Dataset: This dataset contains links between movie IDs in the dataset and external databases (IMDb and TMDB)."
      ],
      "metadata": {
        "id": "UM80su4wLLAB"
      }
    },
    {
      "cell_type": "markdown",
      "source": [
        "# **User-based Movie Filtering**\n",
        "\n",
        "* The system makes recommendations based on the similarity between users.\n",
        "\n"
      ],
      "metadata": {
        "id": "4j6SwSW-KFDK"
      }
    },
    {
      "cell_type": "code",
      "source": [],
      "metadata": {
        "id": "dy2ko6hFJ921"
      },
      "execution_count": null,
      "outputs": []
    }
  ]
}